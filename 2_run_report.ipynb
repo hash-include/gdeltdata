{
 "cells": [
  {
   "cell_type": "code",
   "execution_count": 57,
   "id": "4f07edaa-029a-4b7c-aff8-5e5288e7c8f8",
   "metadata": {},
   "outputs": [],
   "source": [
    "%matplotlib inline\n",
    "from matplotlib import pyplot as plt\n",
    "import pandas as pd"
   ]
  },
  {
   "cell_type": "code",
   "execution_count": 52,
   "id": "8ab24ed9-fdae-4cbe-8547-f75b887a36cb",
   "metadata": {},
   "outputs": [],
   "source": [
    "dfp = pd.read_csv('model_output.csv')"
   ]
  },
  {
   "cell_type": "code",
   "execution_count": 95,
   "id": "50c41448-459b-4d47-ba1f-96203d59099b",
   "metadata": {},
   "outputs": [
    {
     "data": {
      "text/plain": [
       "Index(['GLOBALEVENTID', 'SQLDATE', 'MonthYear', 'Year', 'FractionDate',\n",
       "       'Actor1Code', 'Actor1Name', 'Actor1CountryCode', 'Actor1KnownGroupCode',\n",
       "       'Actor1EthnicCode', 'Actor1Religion1Code', 'Actor1Religion2Code',\n",
       "       'Actor1Type1Code', 'Actor1Type2Code', 'Actor1Type3Code', 'Actor2Code',\n",
       "       'Actor2Name', 'Actor2CountryCode', 'Actor2KnownGroupCode',\n",
       "       'Actor2EthnicCode', 'Actor2Religion1Code', 'Actor2Religion2Code',\n",
       "       'Actor2Type1Code', 'Actor2Type2Code', 'Actor2Type3Code', 'IsRootEvent',\n",
       "       'EventCode', 'EventBaseCode', 'EventRootCode', 'QuadClass',\n",
       "       'GoldsteinScale', 'NumMentions', 'NumSources', 'NumArticles', 'AvgTone',\n",
       "       'Actor1Geo_Type', 'Actor1Geo_FullName', 'Actor1Geo_CountryCode',\n",
       "       'Actor1Geo_ADM1Code', 'Actor1Geo_ADM2Code', 'Actor1Geo_Lat',\n",
       "       'Actor1Geo_Long', 'Actor1Geo_FeatureID', 'Actor2Geo_Type',\n",
       "       'Actor2Geo_FullName', 'Actor2Geo_CountryCode', 'Actor2Geo_ADM1Code',\n",
       "       'Actor2Geo_ADM2Code', 'Actor2Geo_Lat', 'Actor2Geo_Long',\n",
       "       'Actor2Geo_FeatureID', 'ActionGeo_Type', 'ActionGeo_FullName',\n",
       "       'ActionGeo_CountryCode', 'ActionGeo_ADM1Code', 'ActionGeo_ADM2Code',\n",
       "       'ActionGeo_Lat', 'ActionGeo_Long', 'ActionGeo_FeatureID', 'DATEADDED',\n",
       "       'SOURCEURL', 'Actor1__model_time_in_ms',\n",
       "       'Actor1_release_harness_version', 'Actor1_release_model_version',\n",
       "       'Actor1_release_model_version_number', 'Actor1_request_id',\n",
       "       'Actor1_result_class1', 'Actor1_result_class2', 'Actor1_timing',\n",
       "       'Actor2__model_time_in_ms', 'Actor2_release_harness_version',\n",
       "       'Actor2_release_model_version', 'Actor2_release_model_version_number',\n",
       "       'Actor2_request_id', 'Actor2_result_class1', 'Actor2_result_class2',\n",
       "       'Actor2_timing'],\n",
       "      dtype='object')"
      ]
     },
     "execution_count": 95,
     "metadata": {},
     "output_type": "execute_result"
    }
   ],
   "source": [
    "dfp.columns"
   ]
  },
  {
   "cell_type": "code",
   "execution_count": 58,
   "id": "772154f4-9ac2-471d-bf1a-1bae56520d66",
   "metadata": {},
   "outputs": [
    {
     "data": {
      "text/html": [
       "<div>\n",
       "<style scoped>\n",
       "    .dataframe tbody tr th:only-of-type {\n",
       "        vertical-align: middle;\n",
       "    }\n",
       "\n",
       "    .dataframe tbody tr th {\n",
       "        vertical-align: top;\n",
       "    }\n",
       "\n",
       "    .dataframe thead th {\n",
       "        text-align: right;\n",
       "    }\n",
       "</style>\n",
       "<table border=\"1\" class=\"dataframe\">\n",
       "  <thead>\n",
       "    <tr style=\"text-align: right;\">\n",
       "      <th></th>\n",
       "      <th>GLOBALEVENTID</th>\n",
       "      <th>SQLDATE</th>\n",
       "      <th>MonthYear</th>\n",
       "      <th>Year</th>\n",
       "      <th>FractionDate</th>\n",
       "      <th>Actor1Code</th>\n",
       "      <th>Actor1Name</th>\n",
       "      <th>Actor1CountryCode</th>\n",
       "      <th>Actor1KnownGroupCode</th>\n",
       "      <th>Actor1EthnicCode</th>\n",
       "      <th>...</th>\n",
       "      <th>Actor1_result_class2</th>\n",
       "      <th>Actor1_timing</th>\n",
       "      <th>Actor2__model_time_in_ms</th>\n",
       "      <th>Actor2_release_harness_version</th>\n",
       "      <th>Actor2_release_model_version</th>\n",
       "      <th>Actor2_release_model_version_number</th>\n",
       "      <th>Actor2_request_id</th>\n",
       "      <th>Actor2_result_class1</th>\n",
       "      <th>Actor2_result_class2</th>\n",
       "      <th>Actor2_timing</th>\n",
       "    </tr>\n",
       "  </thead>\n",
       "  <tbody>\n",
       "    <tr>\n",
       "      <th>0</th>\n",
       "      <td>838788881</td>\n",
       "      <td>4/16/2018</td>\n",
       "      <td>201804</td>\n",
       "      <td>2018</td>\n",
       "      <td>2018.2904</td>\n",
       "      <td>EDU</td>\n",
       "      <td>ECONOMIST</td>\n",
       "      <td>NaN</td>\n",
       "      <td>NaN</td>\n",
       "      <td>NaN</td>\n",
       "      <td>...</td>\n",
       "      <td>3</td>\n",
       "      <td>0.078201</td>\n",
       "      <td>1001</td>\n",
       "      <td>0.1</td>\n",
       "      <td>5ec427ae4cedfd0008830f07</td>\n",
       "      <td>4</td>\n",
       "      <td>RSFCLN4EK35XOU0V</td>\n",
       "      <td>True</td>\n",
       "      <td>3</td>\n",
       "      <td>1001.194239</td>\n",
       "    </tr>\n",
       "    <tr>\n",
       "      <th>1</th>\n",
       "      <td>838788882</td>\n",
       "      <td>4/16/2018</td>\n",
       "      <td>201804</td>\n",
       "      <td>2018</td>\n",
       "      <td>2018.2904</td>\n",
       "      <td>EDU</td>\n",
       "      <td>STUDENT</td>\n",
       "      <td>NaN</td>\n",
       "      <td>NaN</td>\n",
       "      <td>NaN</td>\n",
       "      <td>...</td>\n",
       "      <td>0</td>\n",
       "      <td>0.079155</td>\n",
       "      <td>0</td>\n",
       "      <td>0.1</td>\n",
       "      <td>5ec427ae4cedfd0008830f07</td>\n",
       "      <td>4</td>\n",
       "      <td>RHC58LU0X41VKWE2</td>\n",
       "      <td>True</td>\n",
       "      <td>4</td>\n",
       "      <td>0.066280</td>\n",
       "    </tr>\n",
       "    <tr>\n",
       "      <th>2</th>\n",
       "      <td>838788884</td>\n",
       "      <td>4/16/2018</td>\n",
       "      <td>201804</td>\n",
       "      <td>2018</td>\n",
       "      <td>2018.2904</td>\n",
       "      <td>GOV</td>\n",
       "      <td>GOVERNMENT</td>\n",
       "      <td>NaN</td>\n",
       "      <td>NaN</td>\n",
       "      <td>NaN</td>\n",
       "      <td>...</td>\n",
       "      <td>3</td>\n",
       "      <td>0.120401</td>\n",
       "      <td>1001</td>\n",
       "      <td>0.1</td>\n",
       "      <td>5ec427ae4cedfd0008830f07</td>\n",
       "      <td>4</td>\n",
       "      <td>FHZU2BCO10AY9LIS</td>\n",
       "      <td>True</td>\n",
       "      <td>3</td>\n",
       "      <td>1001.168489</td>\n",
       "    </tr>\n",
       "    <tr>\n",
       "      <th>3</th>\n",
       "      <td>838788885</td>\n",
       "      <td>4/16/2018</td>\n",
       "      <td>201804</td>\n",
       "      <td>2018</td>\n",
       "      <td>2018.2904</td>\n",
       "      <td>GOV</td>\n",
       "      <td>GOVERNMENT</td>\n",
       "      <td>NaN</td>\n",
       "      <td>NaN</td>\n",
       "      <td>NaN</td>\n",
       "      <td>...</td>\n",
       "      <td>3</td>\n",
       "      <td>0.074387</td>\n",
       "      <td>0</td>\n",
       "      <td>0.1</td>\n",
       "      <td>5ec427ae4cedfd0008830f07</td>\n",
       "      <td>4</td>\n",
       "      <td>3FQ158RWS97IJCLH</td>\n",
       "      <td>True</td>\n",
       "      <td>3</td>\n",
       "      <td>0.053406</td>\n",
       "    </tr>\n",
       "    <tr>\n",
       "      <th>4</th>\n",
       "      <td>838788886</td>\n",
       "      <td>4/16/2018</td>\n",
       "      <td>201804</td>\n",
       "      <td>2018</td>\n",
       "      <td>2018.2904</td>\n",
       "      <td>GOV</td>\n",
       "      <td>MINIST</td>\n",
       "      <td>NaN</td>\n",
       "      <td>NaN</td>\n",
       "      <td>NaN</td>\n",
       "      <td>...</td>\n",
       "      <td>3</td>\n",
       "      <td>0.069141</td>\n",
       "      <td>0</td>\n",
       "      <td>0.1</td>\n",
       "      <td>5ec427ae4cedfd0008830f07</td>\n",
       "      <td>4</td>\n",
       "      <td>BMWNI3P4LV6FSJUR</td>\n",
       "      <td>False</td>\n",
       "      <td>3</td>\n",
       "      <td>0.045300</td>\n",
       "    </tr>\n",
       "  </tbody>\n",
       "</table>\n",
       "<p>5 rows × 77 columns</p>\n",
       "</div>"
      ],
      "text/plain": [
       "   GLOBALEVENTID    SQLDATE  MonthYear  Year  FractionDate Actor1Code  \\\n",
       "0      838788881  4/16/2018     201804  2018     2018.2904        EDU   \n",
       "1      838788882  4/16/2018     201804  2018     2018.2904        EDU   \n",
       "2      838788884  4/16/2018     201804  2018     2018.2904        GOV   \n",
       "3      838788885  4/16/2018     201804  2018     2018.2904        GOV   \n",
       "4      838788886  4/16/2018     201804  2018     2018.2904        GOV   \n",
       "\n",
       "   Actor1Name Actor1CountryCode Actor1KnownGroupCode Actor1EthnicCode  ...  \\\n",
       "0   ECONOMIST               NaN                  NaN              NaN  ...   \n",
       "1     STUDENT               NaN                  NaN              NaN  ...   \n",
       "2  GOVERNMENT               NaN                  NaN              NaN  ...   \n",
       "3  GOVERNMENT               NaN                  NaN              NaN  ...   \n",
       "4      MINIST               NaN                  NaN              NaN  ...   \n",
       "\n",
       "  Actor1_result_class2 Actor1_timing Actor2__model_time_in_ms  \\\n",
       "0                    3      0.078201                     1001   \n",
       "1                    0      0.079155                        0   \n",
       "2                    3      0.120401                     1001   \n",
       "3                    3      0.074387                        0   \n",
       "4                    3      0.069141                        0   \n",
       "\n",
       "  Actor2_release_harness_version  Actor2_release_model_version  \\\n",
       "0                            0.1      5ec427ae4cedfd0008830f07   \n",
       "1                            0.1      5ec427ae4cedfd0008830f07   \n",
       "2                            0.1      5ec427ae4cedfd0008830f07   \n",
       "3                            0.1      5ec427ae4cedfd0008830f07   \n",
       "4                            0.1      5ec427ae4cedfd0008830f07   \n",
       "\n",
       "  Actor2_release_model_version_number Actor2_request_id Actor2_result_class1  \\\n",
       "0                                   4  RSFCLN4EK35XOU0V                 True   \n",
       "1                                   4  RHC58LU0X41VKWE2                 True   \n",
       "2                                   4  FHZU2BCO10AY9LIS                 True   \n",
       "3                                   4  3FQ158RWS97IJCLH                 True   \n",
       "4                                   4  BMWNI3P4LV6FSJUR                False   \n",
       "\n",
       "  Actor2_result_class2 Actor2_timing  \n",
       "0                    3   1001.194239  \n",
       "1                    4      0.066280  \n",
       "2                    3   1001.168489  \n",
       "3                    3      0.053406  \n",
       "4                    3      0.045300  \n",
       "\n",
       "[5 rows x 77 columns]"
      ]
     },
     "execution_count": 58,
     "metadata": {},
     "output_type": "execute_result"
    }
   ],
   "source": [
    "dfp.head()"
   ]
  },
  {
   "cell_type": "code",
   "execution_count": 91,
   "id": "9b0bac60-82cd-49af-b019-cfa4c9269566",
   "metadata": {},
   "outputs": [],
   "source": [
    "actor1_name = 'EDU'\n",
    "y_avgTone = list(dfp[dfp['Actor1Code'] == actor1_name]['AvgTone'])\n"
   ]
  },
  {
   "cell_type": "code",
   "execution_count": 92,
   "id": "55124791-2f31-4d86-a755-fed29ac77099",
   "metadata": {},
   "outputs": [
    {
     "data": {
      "text/plain": [
       "<BarContainer object of 37 artists>"
      ]
     },
     "execution_count": 92,
     "metadata": {},
     "output_type": "execute_result"
    },
    {
     "data": {
      "image/png": "[encoded data removed]",
      "text/plain": [
       "<Figure size 432x288 with 1 Axes>"
      ]
     },
     "metadata": {
      "needs_background": "light"
     },
     "output_type": "display_data"
    }
   ],
   "source": [
    "plt.bar(range(len(y_avgTone)), y_avgTone)"
   ]
  },
  {
   "cell_type": "code",
   "execution_count": null,
   "id": "e8acf810-5403-47ed-b5b1-7c376307ec16",
   "metadata": {},
   "outputs": [],
   "source": [
    "# Most Common Actors"
   ]
  },
  {
   "cell_type": "code",
   "execution_count": 93,
   "id": "16565163-404b-47fb-a9aa-5451bf2b9cef",
   "metadata": {},
   "outputs": [
    {
     "data": {
      "text/plain": [
       "[('USA', 16), ('CAN', 3), ('GOV', 2), ('BUS', 2), ('LEG', 2)]"
      ]
     },
     "execution_count": 93,
     "metadata": {},
     "output_type": "execute_result"
    }
   ],
   "source": [
    "from collections import Counter\n",
    "counter = Counter(dfp[dfp['Actor1Code'] == actor_name]['Actor2Code'])\n",
    "counter.most_common(n=5)"
   ]
  },
  {
   "cell_type": "code",
   "execution_count": null,
   "id": "1426e18e-d27c-4257-8dbb-6bd0718d159e",
   "metadata": {},
   "outputs": [],
   "source": []
  },
  {
   "cell_type": "code",
   "execution_count": 105,
   "id": "3d5522a3-0233-457f-b1c1-58c672c27ed0",
   "metadata": {},
   "outputs": [],
   "source": [
    "actor_code = 'USA'\n",
    "\n",
    "actor_df = dfp[(\n",
    "    dfp['Actor1Code'] == actor_code) |\n",
    "    (dfp['Actor2Code'] == actor_code)\n",
    "][['GLOBALEVENTID', 'Actor1Code', 'Actor2Code', 'AvgTone', 'Actor1_result_class1', 'Actor1_result_class2', 'Actor2_result_class1', 'Actor2_result_class2']]"
   ]
  },
  {
   "cell_type": "code",
   "execution_count": 106,
   "id": "0e7be153-bdde-4d4e-a4d7-afe58144e94c",
   "metadata": {},
   "outputs": [
    {
     "data": {
      "text/html": [
       "<div>\n",
       "<style scoped>\n",
       "    .dataframe tbody tr th:only-of-type {\n",
       "        vertical-align: middle;\n",
       "    }\n",
       "\n",
       "    .dataframe tbody tr th {\n",
       "        vertical-align: top;\n",
       "    }\n",
       "\n",
       "    .dataframe thead th {\n",
       "        text-align: right;\n",
       "    }\n",
       "</style>\n",
       "<table border=\"1\" class=\"dataframe\">\n",
       "  <thead>\n",
       "    <tr style=\"text-align: right;\">\n",
       "      <th></th>\n",
       "      <th>GLOBALEVENTID</th>\n",
       "      <th>Actor1Code</th>\n",
       "      <th>Actor2Code</th>\n",
       "      <th>AvgTone</th>\n",
       "      <th>Actor1_result_class1</th>\n",
       "      <th>Actor1_result_class2</th>\n",
       "      <th>Actor2_result_class1</th>\n",
       "      <th>Actor2_result_class2</th>\n",
       "    </tr>\n",
       "  </thead>\n",
       "  <tbody>\n",
       "    <tr>\n",
       "      <th>1</th>\n",
       "      <td>838788882</td>\n",
       "      <td>EDU</td>\n",
       "      <td>USA</td>\n",
       "      <td>2.214022</td>\n",
       "      <td>True</td>\n",
       "      <td>0</td>\n",
       "      <td>True</td>\n",
       "      <td>4</td>\n",
       "    </tr>\n",
       "    <tr>\n",
       "      <th>8</th>\n",
       "      <td>838788896</td>\n",
       "      <td>USA</td>\n",
       "      <td>OPP</td>\n",
       "      <td>1.692748</td>\n",
       "      <td>True</td>\n",
       "      <td>4</td>\n",
       "      <td>True</td>\n",
       "      <td>1</td>\n",
       "    </tr>\n",
       "    <tr>\n",
       "      <th>9</th>\n",
       "      <td>838788897</td>\n",
       "      <td>USA</td>\n",
       "      <td>OPP</td>\n",
       "      <td>1.692748</td>\n",
       "      <td>True</td>\n",
       "      <td>4</td>\n",
       "      <td>True</td>\n",
       "      <td>1</td>\n",
       "    </tr>\n",
       "    <tr>\n",
       "      <th>10</th>\n",
       "      <td>838788898</td>\n",
       "      <td>USA</td>\n",
       "      <td>OPP</td>\n",
       "      <td>1.692748</td>\n",
       "      <td>True</td>\n",
       "      <td>4</td>\n",
       "      <td>True</td>\n",
       "      <td>1</td>\n",
       "    </tr>\n",
       "    <tr>\n",
       "      <th>11</th>\n",
       "      <td>838788899</td>\n",
       "      <td>USA</td>\n",
       "      <td>OPP</td>\n",
       "      <td>1.692748</td>\n",
       "      <td>True</td>\n",
       "      <td>4</td>\n",
       "      <td>True</td>\n",
       "      <td>1</td>\n",
       "    </tr>\n",
       "  </tbody>\n",
       "</table>\n",
       "</div>"
      ],
      "text/plain": [
       "    GLOBALEVENTID Actor1Code Actor2Code   AvgTone  Actor1_result_class1  \\\n",
       "1       838788882        EDU        USA  2.214022                  True   \n",
       "8       838788896        USA        OPP  1.692748                  True   \n",
       "9       838788897        USA        OPP  1.692748                  True   \n",
       "10      838788898        USA        OPP  1.692748                  True   \n",
       "11      838788899        USA        OPP  1.692748                  True   \n",
       "\n",
       "    Actor1_result_class2  Actor2_result_class1  Actor2_result_class2  \n",
       "1                      0                  True                     4  \n",
       "8                      4                  True                     1  \n",
       "9                      4                  True                     1  \n",
       "10                     4                  True                     1  \n",
       "11                     4                  True                     1  "
      ]
     },
     "execution_count": 106,
     "metadata": {},
     "output_type": "execute_result"
    }
   ],
   "source": [
    "actor_df.head(5)"
   ]
  },
  {
   "cell_type": "code",
   "execution_count": 109,
   "id": "589eeb8b-bd0a-4858-8bbc-b7281b425dcd",
   "metadata": {},
   "outputs": [
    {
     "data": {
      "text/plain": [
       "<BarContainer object of 296 artists>"
      ]
     },
     "execution_count": 109,
     "metadata": {},
     "output_type": "execute_result"
    },
    {
     "data": {
      "image/png": "[encoded data removed]",
      "text/plain": [
       "<Figure size 432x288 with 1 Axes>"
      ]
     },
     "metadata": {
      "needs_background": "light"
     },
     "output_type": "display_data"
    }
   ],
   "source": [
    "y = list(actor_df['AvgTone'])\n",
    "plt.bar(range(len(y)), y)"
   ]
  },
  {
   "cell_type": "code",
   "execution_count": 111,
   "id": "aec1a0be-8aca-4b70-99f6-8fb18657c1e0",
   "metadata": {},
   "outputs": [
    {
     "data": {
      "text/plain": [
       "<BarContainer object of 16 artists>"
      ]
     },
     "execution_count": 111,
     "metadata": {},
     "output_type": "execute_result"
    },
    {
     "data": {
      "image/png": "[encoded data removed]",
      "text/plain": [
       "<Figure size 432x288 with 1 Axes>"
      ]
     },
     "metadata": {
      "needs_background": "light"
     },
     "output_type": "display_data"
    }
   ],
   "source": [
    "y = list(actor_df[actor_df['Actor1Code'] == actor_name]['Actor1_result_class2'])\n",
    "plt.bar(range(len(y)), y)"
   ]
  },
  {
   "cell_type": "code",
   "execution_count": 112,
   "id": "10e5f2e2-70da-41d6-9afe-4c983957fcf2",
   "metadata": {},
   "outputs": [
    {
     "data": {
      "text/plain": [
       "<BarContainer object of 22 artists>"
      ]
     },
     "execution_count": 112,
     "metadata": {},
     "output_type": "execute_result"
    },
    {
     "data": {
      "image/png": "[encoded data removed]",
      "text/plain": [
       "<Figure size 432x288 with 1 Axes>"
      ]
     },
     "metadata": {
      "needs_background": "light"
     },
     "output_type": "display_data"
    }
   ],
   "source": [
    "y = list(actor_df[actor_df['Actor2Code'] == actor_name]['Actor2_result_class2'])\n",
    "plt.bar(range(len(y)), y)"
   ]
  }
 ],
 "metadata": {
  "kernelspec": {
   "display_name": "Python 3 (ipykernel)",
   "language": "python",
   "name": "python3"
  },
  "language_info": {
   "codemirror_mode": {
    "name": "ipython",
    "version": 3
   },
   "file_extension": ".py",
   "mimetype": "text/x-python",
   "name": "python",
   "nbconvert_exporter": "python",
   "pygments_lexer": "ipython3",
   "version": "3.9.6"
  }
 },
 "nbformat": 4,
 "nbformat_minor": 5
}
