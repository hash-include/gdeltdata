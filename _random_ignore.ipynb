{
 "cells": [
  {
   "cell_type": "code",
   "execution_count": null,
   "id": "2ec7c75f-29a1-46e3-8dbb-b800f56135ca",
   "metadata": {},
   "outputs": [],
   "source": [
    "# https://hadoop.apache.org/docs/current/hadoop-aws/tools/hadoop-aws/index.html#General_S3A_Client_configuration\n",
    "# https://sparkbyexamples.com/spark/spark-read-text-file-from-s3/\n",
    "# https://stackoverflow.com/questions/31496152/access-public-available-amazon-s3-file-from-apache-spark\n",
    "# sparkConf.set(\"spark.hadoop.fs.s3a.multipart.size\", 104857600)"
   ]
  },
  {
   "cell_type": "code",
   "execution_count": 2,
   "id": "00931856-2920-4200-abb9-6d9603b67f1d",
   "metadata": {},
   "outputs": [
    {
     "name": "stdout",
     "output_type": "stream",
     "text": [
      "Collecting cachetools\n",
      "  Downloading cachetools-4.2.4-py3-none-any.whl (10 kB)\n",
      "Installing collected packages: cachetools\n",
      "Successfully installed cachetools-4.2.4\n"
     ]
    }
   ],
   "source": [
    "!pip install cachetools"
   ]
  },
  {
   "cell_type": "code",
   "execution_count": null,
   "id": "4c6325ec-e87b-4f49-922f-c892ad3904bd",
   "metadata": {},
   "outputs": [],
   "source": [
    "s = '20190416151500'\n",
    "from datetime import datetime\n",
    "\n",
    "dt = datetime.strptime(s, '%Y%m%d%H%M%S')\n",
    "# datetime.datetime(2019, 4, 16, 15, 15)\n",
    "dt.strftime('%Y-%m-%d %H:%M:%S')"
   ]
  },
  {
   "cell_type": "code",
   "execution_count": null,
   "id": "93490cb5-a738-4384-a570-69f02b6c35ae",
   "metadata": {},
   "outputs": [],
   "source": [
    "# lines_2019 = sc.textFile(\"s3a://gdelt-open-data/v2/events/20151220.*.export.csv\")\n",
    "# d = spark.createDataFrame(lines_2019)\n"
   ]
  },
  {
   "cell_type": "code",
   "execution_count": null,
   "id": "430d7c0d-fb7a-4ef3-b4f6-1b5ef957f8b2",
   "metadata": {},
   "outputs": [],
   "source": [
    "d = events_clean.filter('GLOBALEVENTID == 838789233')\n",
    "d.show(vertical=True)\n",
    "row = d.collect()[0]\n",
    "\n",
    "payload = create_payload(row['AvgTone'], row['GoldsteinScale'], row['Actor1Code'], row['Actor1Geo_Lat'], row['Actor1Geo_Long'], datetime.strptime(str(row['DATEADDED']),'%Y%m%d%H%M%S'))\n",
    "response = flatten_model_response('Actor1', get_model_response(payload), event_id=row['GLOBALEVENTID'])\n",
    "# Null pointer error\n",
    "# {'error': {'message': \"your angle string 'None' does not have the format [number[:number[:number]]]\"}, 'model_time_in_ms': 0, 'release': {'harness_version': '0.1', 'model_version': '5ec427ae4cedfd0008830f07', 'model_version_number': 4}, 'request_id': 'SEZOXC4F2VH5IWK3', 'timing': 0.20599365234375} "
   ]
  }
 ],
 "metadata": {
  "kernelspec": {
   "display_name": "Python 3 (ipykernel)",
   "language": "python",
   "name": "python3"
  },
  "language_info": {
   "codemirror_mode": {
    "name": "ipython",
    "version": 3
   },
   "file_extension": ".py",
   "mimetype": "text/x-python",
   "name": "python",
   "nbconvert_exporter": "python",
   "pygments_lexer": "ipython3",
   "version": "3.9.6"
  }
 },
 "nbformat": 4,
 "nbformat_minor": 5
}
